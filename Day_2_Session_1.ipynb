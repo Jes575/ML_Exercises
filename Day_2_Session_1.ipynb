{
  "nbformat": 4,
  "nbformat_minor": 0,
  "metadata": {
    "colab": {
      "name": "Day_2_Session_1.ipynb",
      "provenance": [],
      "authorship_tag": "ABX9TyPXKvlmreLEWP46pnLlIR/q",
      "include_colab_link": true
    },
    "kernelspec": {
      "name": "python3",
      "display_name": "Python 3"
    }
  },
  "cells": [
    {
      "cell_type": "markdown",
      "metadata": {
        "id": "view-in-github",
        "colab_type": "text"
      },
      "source": [
        "<a href=\"https://colab.research.google.com/github/Jes575/ML_Exercises/blob/master/Day_2_Session_1.ipynb\" target=\"_parent\"><img src=\"https://colab.research.google.com/assets/colab-badge.svg\" alt=\"Open In Colab\"/></a>"
      ]
    },
    {
      "cell_type": "markdown",
      "metadata": {
        "id": "7Qe3o27s5Kb2",
        "colab_type": "text"
      },
      "source": [
        "print multiples of 3 upto 200 using a list"
      ]
    },
    {
      "cell_type": "code",
      "metadata": {
        "id": "ZVDDVUNyALw0",
        "colab_type": "code",
        "colab": {
          "base_uri": "https://localhost:8080/",
          "height": 84
        },
        "outputId": "d722fb67-2933-4c4d-bfd6-5d1b3da1d2ff"
      },
      "source": [
        "import numpy as np\n",
        "x = np.arange(1, 200)\n",
        "\n",
        "n= x[(x % 3 == 0) ]\n",
        "print(n[:200])\n"
      ],
      "execution_count": null,
      "outputs": [
        {
          "output_type": "stream",
          "text": [
            "[  3   6   9  12  15  18  21  24  27  30  33  36  39  42  45  48  51  54\n",
            "  57  60  63  66  69  72  75  78  81  84  87  90  93  96  99 102 105 108\n",
            " 111 114 117 120 123 126 129 132 135 138 141 144 147 150 153 156 159 162\n",
            " 165 168 171 174 177 180 183 186 189 192 195 198]\n"
          ],
          "name": "stdout"
        }
      ]
    },
    {
      "cell_type": "markdown",
      "metadata": {
        "id": "K3OUDvbH6Skh",
        "colab_type": "text"
      },
      "source": [
        "print the nos only divisable by 5 and 7 between 1000 and 2000 using a list( both inclusive)"
      ]
    },
    {
      "cell_type": "code",
      "metadata": {
        "id": "aQuY0OWO6W0a",
        "colab_type": "code",
        "colab": {
          "base_uri": "https://localhost:8080/",
          "height": 34
        },
        "outputId": "3cefb82e-348a-4cc4-a468-e06bcddcb972"
      },
      "source": [
        "nl=[]\n",
        "for x in range(1000, 2001):\n",
        "    if (x%7==0) and (x%5==0):\n",
        "        nl.append(str(x))\n",
        "print (','.join(nl))"
      ],
      "execution_count": null,
      "outputs": [
        {
          "output_type": "stream",
          "text": [
            "1015,1050,1085,1120,1155,1190,1225,1260,1295,1330,1365,1400,1435,1470,1505,1540,1575,1610,1645,1680,1715,1750,1785,1820,1855,1890,1925,1960,1995\n"
          ],
          "name": "stdout"
        }
      ]
    },
    {
      "cell_type": "markdown",
      "metadata": {
        "id": "AgMW2D_m762-",
        "colab_type": "text"
      },
      "source": [
        "Add the n number of names in a list and print them alphabetically and reverse alphabetically."
      ]
    },
    {
      "cell_type": "code",
      "metadata": {
        "id": "Smvt1kml7_vx",
        "colab_type": "code",
        "colab": {
          "base_uri": "https://localhost:8080/",
          "height": 101
        },
        "outputId": "039b51eb-2d2c-483b-f6b9-9cc746e22eb9"
      },
      "source": [
        "\n",
        "my_str = input(\"Enter a string: \")\n",
        "\n",
        "words = my_str.split()\n",
        "\n",
        "words.sort()\n",
        "\n",
        "print(\"The sorted words are:\")\n",
        "for word in words:\n",
        "   print(word)"
      ],
      "execution_count": null,
      "outputs": [
        {
          "output_type": "stream",
          "text": [
            "Enter a string: mat hat cat\n",
            "The sorted words are:\n",
            "cat\n",
            "hat\n",
            "mat\n"
          ],
          "name": "stdout"
        }
      ]
    },
    {
      "cell_type": "markdown",
      "metadata": {
        "id": "shD5ehs09n00",
        "colab_type": "text"
      },
      "source": [
        "Print  perfect squares and divisible by 5 between 500 and 1000( (both inclusive) using list"
      ]
    },
    {
      "cell_type": "code",
      "metadata": {
        "id": "_pBsgs279ryG",
        "colab_type": "code",
        "colab": {
          "base_uri": "https://localhost:8080/",
          "height": 34
        },
        "outputId": "ab788c6d-191c-4856-c07b-b70295d138c9"
      },
      "source": [
        "def squares(a, b):\n",
        "    lists=[]\n",
        "    for i in range (a,b+1):\n",
        "        j = 1;\n",
        "        while j*j <= i:\n",
        "            if j*j == i:\n",
        "                 lists.append(i)  \n",
        "            j = j+1\n",
        "        i = i+1\n",
        "    return lists\n",
        "print(squares(500, 1001))"
      ],
      "execution_count": null,
      "outputs": [
        {
          "output_type": "stream",
          "text": [
            "[529, 576, 625, 676, 729, 784, 841, 900, 961]\n"
          ],
          "name": "stdout"
        }
      ]
    },
    {
      "cell_type": "markdown",
      "metadata": {
        "id": "a8FOLfgK-Wnr",
        "colab_type": "text"
      },
      "source": [
        "Get  a string and store word by word as elements in a tuple and find the largest word in the  tuple and print it"
      ]
    },
    {
      "cell_type": "code",
      "metadata": {
        "id": "52HJjXGn-cLK",
        "colab_type": "code",
        "colab": {
          "base_uri": "https://localhost:8080/",
          "height": 101
        },
        "outputId": "9242710f-9188-4ac8-ec84-44ecc039bfea"
      },
      "source": [
        "a=[]\n",
        "n= int(input(\"Enter the number of elements in list:\"))\n",
        "for x in range(0,n):\n",
        "    element=input(\"Enter element\" + str(x+1) + \":\")\n",
        "    a.append(element)\n",
        "max1=len(a[0])\n",
        "temp=a[0]\n",
        "for i in a:\n",
        "    if(len(i)>max1):\n",
        "       max1=len(i)\n",
        "       temp=i\n",
        "print(\"The word with the longest length is:\")\n",
        "print(temp)"
      ],
      "execution_count": null,
      "outputs": [
        {
          "output_type": "stream",
          "text": [
            "Enter the number of elements in list:2\n",
            "Enter element1:hello\n",
            "Enter element2:world\n",
            "The word with the longest length is:\n",
            "hello\n"
          ],
          "name": "stdout"
        }
      ]
    },
    {
      "cell_type": "markdown",
      "metadata": {
        "id": "xDhpmGQ0-oGb",
        "colab_type": "text"
      },
      "source": [
        "Get rollno and marks (Rollno, mark) as list of tuples for n number of students through keyboard  and print them in marks descending order with rollno."
      ]
    },
    {
      "cell_type": "code",
      "metadata": {
        "id": "_5BOKrYH_Fdf",
        "colab_type": "code",
        "colab": {
          "base_uri": "https://localhost:8080/",
          "height": 134
        },
        "outputId": "fc553274-f1c2-4d96-b108-07b224ed939e"
      },
      "source": [
        "rollno = []\n",
        "marks = []\n",
        "\n",
        "n = int(input(\"Enter number of students\"))\n",
        "\n",
        "for i in range(0,n):\n",
        "  x = input(\"Enter rollno\")\n",
        "  rollno.append(x)\n",
        "  y = int(input(\"Enter marks\"))\n",
        "  marks.append(y)\n",
        "\n",
        "print(\"Student rollno\",rollno)\n",
        "print(\"Student marks\",marks)"
      ],
      "execution_count": null,
      "outputs": [
        {
          "output_type": "stream",
          "text": [
            "Enter number of students2\n",
            "Enter rollno102\n",
            "Enter marks50\n",
            "Enter rollno103\n",
            "Enter marks100\n",
            "Student rollno ['102', '103']\n",
            "Student marks [50, 100]\n"
          ],
          "name": "stdout"
        }
      ]
    },
    {
      "cell_type": "markdown",
      "metadata": {
        "id": "sg32PFkMGZAI",
        "colab_type": "text"
      },
      "source": [
        "Get name and salary (name, salary) as list of tuples for n number of employees through keyboard  and print them in name alphabetical order with salary"
      ]
    },
    {
      "cell_type": "code",
      "metadata": {
        "id": "GnUENAcPGe3z",
        "colab_type": "code",
        "colab": {}
      },
      "source": [
        "name = []\n",
        "salary = []\n",
        "\n",
        "n = int(input(\"Enter number of employees\"))\n",
        "\n",
        "for i in range(0,n):\n",
        "  x = input(\"Enter name\")\n",
        "  name.append(x)\n",
        "  y = int(input(\"Enter salary\"))\n",
        "  salary.append(y)\n",
        "\n",
        "print(\"Student rollno\",rollno)\n",
        "print(\"Student marks\",marks)"
      ],
      "execution_count": null,
      "outputs": []
    }
  ]
}