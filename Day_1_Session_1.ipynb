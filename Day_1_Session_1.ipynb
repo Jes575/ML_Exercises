{
  "nbformat": 4,
  "nbformat_minor": 0,
  "metadata": {
    "colab": {
      "name": "Day_1_Session_1.ipynb",
      "provenance": [],
      "authorship_tag": "ABX9TyNGu6RKl7JXCjlvI2pjtmw8",
      "include_colab_link": true
    },
    "kernelspec": {
      "name": "python3",
      "display_name": "Python 3"
    }
  },
  "cells": [
    {
      "cell_type": "markdown",
      "metadata": {
        "id": "view-in-github",
        "colab_type": "text"
      },
      "source": [
        "<a href=\"https://colab.research.google.com/github/Jes575/ML_Exercises/blob/master/Day_1_Session_1.ipynb\" target=\"_parent\"><img src=\"https://colab.research.google.com/assets/colab-badge.svg\" alt=\"Open In Colab\"/></a>"
      ]
    },
    {
      "cell_type": "markdown",
      "metadata": {
        "id": "g9YcyP66rDQi",
        "colab_type": "text"
      },
      "source": [
        "Day 1 sesson 1 Exercises"
      ]
    },
    {
      "cell_type": "markdown",
      "metadata": {
        "id": "hy1-GtJKrN5W",
        "colab_type": "text"
      },
      "source": [
        "1.\tFind the compound interest for the given p,n,r  (formula : p(1+n*r/100)n )"
      ]
    },
    {
      "cell_type": "code",
      "metadata": {
        "id": "tmr-J4GksBiU",
        "colab_type": "code",
        "colab": {
          "base_uri": "https://localhost:8080/",
          "height": 84
        },
        "outputId": "249c9b16-c2c5-4b49-feb1-8d2d75a23f2a"
      },
      "source": [
        "p = int(input(\"Enter principal amount\"))\n",
        "n = int(input(\"Enter the period\"))\n",
        "r = int(input(\"Enter the rate of interest\"))\n",
        "\n",
        "res = p * (1 + n * r/100)*n\n",
        "\n",
        "print(\"Compound interest =\", res)"
      ],
      "execution_count": null,
      "outputs": [
        {
          "output_type": "stream",
          "text": [
            "Enter principal amount1000\n",
            "Enter the period3\n",
            "Enter the rate of interest5\n",
            "Compound interest = 3450.0\n"
          ],
          "name": "stdout"
        }
      ]
    },
    {
      "cell_type": "markdown",
      "metadata": {
        "id": "hbpt3xdQLGPV",
        "colab_type": "text"
      },
      "source": [
        "2.\tConvert centegrade to farenheit  ( f= 9/5*c+32)"
      ]
    },
    {
      "cell_type": "code",
      "metadata": {
        "id": "o4SvHjXPLXVu",
        "colab_type": "code",
        "colab": {
          "base_uri": "https://localhost:8080/",
          "height": 50
        },
        "outputId": "26939a6f-09da-4f2f-be4a-1f0fa91266ff"
      },
      "source": [
        "c = int(input(\"Enter temperature in celsius\"))\n",
        "\n",
        "f = 9/5 * c +32\n",
        "\n",
        "print(\"Temperature in faranheit = \",f)"
      ],
      "execution_count": null,
      "outputs": [
        {
          "output_type": "stream",
          "text": [
            "Enter temperature in celsius32\n",
            "Temperature in faranheit =  89.6\n"
          ],
          "name": "stdout"
        }
      ]
    },
    {
      "cell_type": "markdown",
      "metadata": {
        "id": "q37zHtTuL22y",
        "colab_type": "text"
      },
      "source": [
        "3.\tFind the greater of two nos "
      ]
    },
    {
      "cell_type": "code",
      "metadata": {
        "id": "CrxV8YW5L9V7",
        "colab_type": "code",
        "colab": {
          "base_uri": "https://localhost:8080/",
          "height": 67
        },
        "outputId": "975879ad-4612-4a41-ad95-efb018837638"
      },
      "source": [
        "a = int(input(\"Enter a number\"))\n",
        "b = int(input(\"Enter a number\"))\n",
        "\n",
        "if(a>b):\n",
        "  print(\"Greater is =\",a)\n",
        "else:\n",
        "  print(\"Greater is =\",b)"
      ],
      "execution_count": null,
      "outputs": [
        {
          "output_type": "stream",
          "text": [
            "Enter a number7\n",
            "Enter a number8\n",
            "Greater is = 8\n"
          ],
          "name": "stdout"
        }
      ]
    },
    {
      "cell_type": "markdown",
      "metadata": {
        "id": "8Ad3pDkQNXH2",
        "colab_type": "text"
      },
      "source": [
        "4.\tWrite a program for finding surface areas of cylinder and cone (2*PI*r*r*h, 1/3*PI*r*r*h) using function"
      ]
    },
    {
      "cell_type": "code",
      "metadata": {
        "id": "ApTI_s2qNY9l",
        "colab_type": "code",
        "colab": {
          "base_uri": "https://localhost:8080/",
          "height": 84
        },
        "outputId": "e7e82fb1-ab44-4aa4-d433-f49d28740f50"
      },
      "source": [
        "def suarea():\n",
        "  r = int(input(\"Enter the radius\"))\n",
        "  h = int(input(\"Enter the height\"))\n",
        "\n",
        "  scyl = 2 * 3.14 * r * r * h\n",
        "  scone = (1/3) * 3.14 * r * r * h\n",
        "\n",
        "  print(\"Area of cylinder =\",scyl)\n",
        "  print(\"Area of cone=\",scone)\n",
        "\n",
        "suarea()\n"
      ],
      "execution_count": null,
      "outputs": [
        {
          "output_type": "stream",
          "text": [
            "Enter the radius8\n",
            "Enter the height10\n",
            "Area of cylinder = 4019.2000000000003\n",
            "Area of cone= 669.8666666666667\n"
          ],
          "name": "stdout"
        }
      ]
    },
    {
      "cell_type": "markdown",
      "metadata": {
        "id": "XSGmjWHsPIhU",
        "colab_type": "text"
      },
      "source": [
        "5.\tFind the greatest of four nos ( using ‘and’ operator)   using function."
      ]
    },
    {
      "cell_type": "code",
      "metadata": {
        "id": "qfkEio9_PPkk",
        "colab_type": "code",
        "colab": {}
      },
      "source": [
        "def greatest():\n",
        "  print(\"Enter four numbers\")\n",
        "  for(int i in)\n",
        "\n",
        "  "
      ],
      "execution_count": null,
      "outputs": []
    },
    {
      "cell_type": "markdown",
      "metadata": {
        "id": "shdMOcCX94TQ",
        "colab_type": "text"
      },
      "source": [
        "6.\tWrite a  menu program to perform the operations ( ODDorEven, Factorial, ODDNoUptoN, PrimeUptoN ) using functions for two nos with  menu choice"
      ]
    },
    {
      "cell_type": "code",
      "metadata": {
        "id": "llBJ9jV8953f",
        "colab_type": "code",
        "colab": {
          "base_uri": "https://localhost:8080/",
          "height": 128
        },
        "outputId": "496180f2-e7ba-4e99-828a-d7ef8e05ac3f"
      },
      "source": [
        "def operate(x):\n",
        "  \n",
        "  switcher = {\n",
        "          0:  a = int(input(\"Enter first number\"))\n",
        "              b = int(input(\"Enter second number\"))\n",
        "              if(a%2==0)\n",
        "                print(a,\"Number is even\")\n",
        "              else\n",
        "                print(a,\"Number is odd\")\n",
        "              if(b%2==0)\n",
        "                print(b,\"Number is even\")\n",
        "              else\n",
        "                print(b,\"Number is odd\"),\n",
        "        1: num = int(input(\"Enter the number\"))\n",
        "            factorial = 1   \n",
        "            if num < 0:\n",
        "              print(\"Sorry, factorial does not exist for negative numbers\")\n",
        "            elif num == 0:\n",
        "              print(\"The factorial of 0 is 1\")\n",
        "            else:\n",
        "              for i in range(1,num + 1):\n",
        "                factorial = factorial*i\n",
        "                print(\"The factorial of\",num,\"is\",factorial),\n",
        "        2: n = int(input(\"Enter value of N\"))\n",
        "            for i in range(1,n)\n",
        "              if(i%2!=0)\n",
        "                print(i),\n",
        "        3: num = int(input(\"Enter a number\"))\n",
        "            if num > 1:\n",
        "            for i in range(2,num):\n",
        "              if (num % i) == 0:\n",
        "                print(num,\"is not a prime number\")\n",
        "                print(i,\"times\",num//i,\"is\",num)\n",
        "              break\n",
        "              else:\n",
        "                print(num,\"is a prime number\")\n",
        "              else:\n",
        "                print(num,\"is not a prime number\")\n",
        "  }\n",
        "\n",
        "print(\"1.OddorEven\\n 2.Factorial 3.oddNouptoN 4.PrimeuptoN\")\n",
        "ch = int(input(\"Enter choice\"))\n",
        "operate(ch)"
      ],
      "execution_count": null,
      "outputs": [
        {
          "output_type": "error",
          "ename": "SyntaxError",
          "evalue": "ignored",
          "traceback": [
            "\u001b[0;36m  File \u001b[0;32m\"<ipython-input-6-acb30a117987>\"\u001b[0;36m, line \u001b[0;32m4\u001b[0m\n\u001b[0;31m    0:  a = int(input(\"Enter first number\"))\u001b[0m\n\u001b[0m          ^\u001b[0m\n\u001b[0;31mSyntaxError\u001b[0m\u001b[0;31m:\u001b[0m invalid syntax\n"
          ]
        }
      ]
    }
  ]
}